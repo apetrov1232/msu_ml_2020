{
 "cells": [
  {
   "cell_type": "markdown",
   "metadata": {},
   "source": [
    "### Алгоритмы интеллектуальной обработки больших объемов данных\n",
    "## Домашнее задание №4 - Градиентный бустинг\n"
   ]
  },
  {
   "cell_type": "markdown",
   "metadata": {},
   "source": [
    "**Общая информация**\n",
    "\n",
    "**Срок сдачи:** 21 декабря 2020, 08:30   \n",
    "**Штраф за опоздание:** -2 балла после 08:30 21 декабря, -4 балла после 08:30 28 декабря, -6 баллов после 08:30 04 янва, -8 баллов после 08:30 11 января.\n",
    "\n",
    "При отправлении ДЗ указывайте фамилию в названии файла Присылать ДЗ необходимо в виде ссылки на свой github репозиторий на почту ml1.sphere@mail.ru с указанием темы в следующем формате:\n",
    "[ML0220, Задание 4] Фамилия Имя. \n",
    "\n",
    "\n",
    "Используйте данный Ipython Notebook при оформлении домашнего задания."
   ]
  },
  {
   "cell_type": "markdown",
   "metadata": {},
   "source": [
    "##  Считаем производные для функций потерь (1 балл)"
   ]
  },
  {
   "cell_type": "markdown",
   "metadata": {},
   "source": [
    "Мы будем реализовать градиентный бустинг для 3 функций потерь:\n",
    "\n",
    "1) MSE  $L(a(x_i), y_i) = (y_i - a(x_i)) ^ 2$\n",
    "\n",
    "2) Экспоненциальная  $L(a(x_i), y_i) = exp( -a(x_i) y_i), y_i \\in \\{-1, 1\\}$\n",
    "\n",
    "3) Логистическая  $L(a(x_i), y_i) = \\log (1 + exp( -a(x_i) y_i)), y_i \\in \\{-1, 1\\}$\n",
    "\n",
    "где $a(x_i)$ предсказание бустинга на итом объекте. \n",
    "\n",
    "Для каждой функции потерь напишите таргет, на который будет настраиваться каждое дерево в бустинге. "
   ]
  },
  {
   "cell_type": "markdown",
   "metadata": {},
   "source": [
    "Ваше решение тут\n",
    "\n",
    "для k-ого алгоритма в бустинге таргет:\n",
    "\n",
    "mse:\n",
    "$$y_{ki} = 2(y_i - F_{k-1}(x_i))$$\n",
    "exp:\n",
    "$$y_{ki} = y_iexp(-F_{k-1}(x_i)y_i)$$\n",
    "log:\n",
    "$$ y_{ki} = \\frac{y_iexp(-F_{k-1}(x_i)y_i)}{1+exp(-F_{k-1}(x_i)y_i)}$$"
   ]
  },
  {
   "cell_type": "markdown",
   "metadata": {},
   "source": [
    "##  Реализуем градиентный бустинг (3 балла)"
   ]
  },
  {
   "cell_type": "markdown",
   "metadata": {},
   "source": [
    "Реализуйте класс градиентного бустинга для классификации. Ваша реализация бустинга должна работать по точности не более чем на 5 процентов хуже чем GradientBoostingClassifier из sklearn. \n"
   ]
  },
  {
   "cell_type": "markdown",
   "metadata": {},
   "source": [
    "Детали реализации:\n",
    "\n",
    "-- должно поддерживаться 3 функции потерь\n",
    "\n",
    "-- сами базовые алгоритмы(деревья, линейные модели и тп) реализовать не надо, просто возьмите готовые из sklearn\n",
    "\n",
    "-- в качестве функции потерь для построения одного дерева используйте MSE\n",
    "\n",
    "-- шаг в бустинге можно не подбирать, можно брать константный\n",
    "\n",
    "-- можно брать разные модели в качестве инициализации бустинга\n",
    "\n",
    "-- должны поддерживаться следующие параметры:\n",
    "\n",
    "а) число итераций\n",
    "б) размер шага\n",
    "в) процент случайных фичей при построении одного дерева\n",
    "д) процент случайных объектов при построении одного дерева\n",
    "е) параметры базового алгоритма (передавайте через **kwargs)"
   ]
  },
  {
   "cell_type": "code",
   "execution_count": 1,
   "metadata": {},
   "outputs": [],
   "source": [
    "import numpy as np\n",
    "import random\n",
    "import matplotlib.pyplot as plt\n",
    "\n",
    "from sklearn.datasets import load_wine\n",
    "from sklearn.ensemble import GradientBoostingClassifier\n",
    "from sklearn.metrics import accuracy_score\n",
    "from sklearn.model_selection import train_test_split\n",
    "from sklearn.tree import DecisionTreeRegressor\n",
    "from sklearn.ensemble import RandomForestRegressor\n",
    "from sklearn.ensemble import RandomForestClassifier\n",
    "from sklearn.linear_model import LinearRegression\n",
    "from sklearn.linear_model import LogisticRegression\n",
    "from sklearn.svm import LinearSVC\n",
    "from sklearn.svm import SVC\n",
    "from tqdm import tqdm"
   ]
  },
  {
   "cell_type": "code",
   "execution_count": 2,
   "metadata": {},
   "outputs": [],
   "source": [
    "class MyGradientBoostingClassifier:\n",
    "    \n",
    "    def new_y(self, y, F):\n",
    "        if self.loss == 'mse':\n",
    "            return 2 * (y - F)\n",
    "        if self.loss == 'exp':\n",
    "            return y * np.exp(-F * y)\n",
    "        if self.loss == 'log':\n",
    "            return y * np.exp(-F * y) / (1 + np.exp(-F * y))\n",
    "\n",
    "    def __init__(self, loss='mse', learning_rate=0.2, n_estimators=6, colsample=0.5, subsample=0.5):\n",
    "        \"\"\"\n",
    "        loss -- один из 3 лоссов:\n",
    "        learning_rate -- шаг бустинга\n",
    "        n_estimators -- число итераций\n",
    "        colsample -- процент рандомных признаков при обучнеии одного алгоритма\n",
    "        colsample -- процент рандомных объектов при обучнеии одного алгоритма\n",
    "        \"\"\"\n",
    "        # Ваш код здесь\n",
    "        self.loss = loss\n",
    "        self.learning_rate = learning_rate\n",
    "        self.n_estimators = n_estimators\n",
    "        self.colsample = colsample\n",
    "        self.subsample = subsample\n",
    "    \n",
    "    def fit(self, X, y, base_model=DecisionTreeRegressor, init_model=None, *args, **kwargs):\n",
    "        \"\"\"\n",
    "        X -- объекты для обучения:\n",
    "        y -- таргеты для обучения\n",
    "        base_model -- класс базовых моделей, например sklearn.tree.DecisionTreeRegressor\n",
    "        init_model -- класс для первой модели, если None то берем константу (только для посл задания)\n",
    "        args, kwargs -- параметры  базовых моделей\n",
    "        \"\"\"\n",
    "        # Ваш код здесь\n",
    "        self.models = []\n",
    "        self.cols = []\n",
    "        \n",
    "        if init_model is None:\n",
    "            F = np.zeros(len(y))\n",
    "        else:\n",
    "            model = init_model()\n",
    "            model.fit(X, y)\n",
    "            self.models.append(model)\n",
    "            self.cols.append(list(range(X.shape[1])))\n",
    "            F = np.asarray(model.predict(X))\n",
    "        \n",
    "        for i in range(self.n_estimators):\n",
    "            #colsample\n",
    "            cols = list(range(X.shape[1]))\n",
    "            random.shuffle(cols)\n",
    "            cols = cols[:round(X.shape[1] * self.colsample)]\n",
    "            X_i_all = X[:, cols] \n",
    "            \n",
    "            #subsample\n",
    "            subs = list(range(X.shape[0]))\n",
    "            random.shuffle(subs)\n",
    "            subs = subs[:round(X.shape[0] * self.subsample)]\n",
    "            X_i = X_i_all[subs, :] \n",
    "            y_i = y[subs]\n",
    "            F_i = F[subs] \n",
    "            \n",
    "            #fit\n",
    "            model = base_model(*args, **kwargs)\n",
    "            model.fit(X_i, self.new_y(y_i, F_i))\n",
    "            self.models.append(model)\n",
    "            self.cols.append(cols)\n",
    "            F = F + self.learning_rate * np.asarray(model.predict(X_i_all))\n",
    "            \n",
    "        \n",
    "    def predict(self, X):\n",
    "        # Ваш код здесь\n",
    "        F = np.zeros(len(X))\n",
    "        for i in range(len(self.models)):\n",
    "            F = F + self.learning_rate * np.asarray(self.models[i].predict(X[:, self.cols[i]]))\n",
    "        return np.round(F)"
   ]
  },
  {
   "cell_type": "code",
   "execution_count": 3,
   "metadata": {},
   "outputs": [],
   "source": [
    "my_clf = MyGradientBoostingClassifier()\n",
    "clf = GradientBoostingClassifier()"
   ]
  },
  {
   "cell_type": "code",
   "execution_count": 4,
   "metadata": {},
   "outputs": [],
   "source": [
    "wine = load_wine()\n",
    "X_train, X_test, y_train, y_test = train_test_split(wine.data, wine.target, test_size=0.1, stratify=wine.target)"
   ]
  },
  {
   "cell_type": "code",
   "execution_count": 5,
   "metadata": {},
   "outputs": [
    {
     "name": "stdout",
     "output_type": "stream",
     "text": [
      "0.8888888888888888\n",
      "0.9444444444444444\n"
     ]
    }
   ],
   "source": [
    "my_clf.fit(X_train, y_train)\n",
    "clf.fit(X_train, y_train)\n",
    "print(accuracy_score(y_pred=clf.predict(X_test), y_true=y_test))\n",
    "print(accuracy_score(y_pred=my_clf.predict(X_test), y_true=y_test))"
   ]
  },
  {
   "cell_type": "code",
   "execution_count": 6,
   "metadata": {},
   "outputs": [
    {
     "name": "stderr",
     "output_type": "stream",
     "text": [
      "100%|████████████████████████████████████████████████████████████████████████████████| 100/100 [00:20<00:00,  4.83it/s]\n"
     ]
    },
    {
     "data": {
      "text/plain": [
       "(0.9472222222222222, 0.9238888888888888)"
      ]
     },
     "execution_count": 6,
     "metadata": {},
     "output_type": "execute_result"
    }
   ],
   "source": [
    "# Как-то сильно скор отличается в зависимости от train_test_split, захотелось посмотреть в среднем\n",
    "accuracy_sklearn = []\n",
    "accuracy_my = []\n",
    "wine = load_wine()\n",
    "for i in tqdm(range(100)):\n",
    "    X_train, X_test, y_train, y_test = train_test_split(wine.data, wine.target, test_size=0.1, stratify=wine.target)\n",
    "    my_clf.fit(X_train, y_train)\n",
    "    clf.fit(X_train, y_train)\n",
    "    accuracy_sklearn.append(accuracy_score(y_pred=clf.predict(X_test), y_true=y_test))\n",
    "    accuracy_my.append(accuracy_score(y_pred=my_clf.predict(X_test), y_true=y_test))\n",
    "np.mean(accuracy_sklearn), np.mean(accuracy_my)\n",
    "# Как раз меньше пяти процентов разница"
   ]
  },
  {
   "cell_type": "markdown",
   "metadata": {},
   "source": [
    "## Подбираем параметры (2 балла)\n",
    "\n",
    "Давайте попробуем применить Ваш бустинг для предсказаний цены домов в Калифорнии. Чтобы можно было попробовтаь разные функции потерь, переведем по порогу таргет в 2 класса: дорогие и дешевые дома."
   ]
  },
  {
   "cell_type": "markdown",
   "metadata": {},
   "source": [
    "В задании нужно\n",
    "\n",
    "1) Построить график точности в зависимости от числа итераций на валидации.\n",
    "\n",
    "2) Подобрать оптимальные параметры Вашего бустинга на валидации. \n"
   ]
  },
  {
   "cell_type": "code",
   "execution_count": 7,
   "metadata": {},
   "outputs": [],
   "source": [
    "from sklearn.datasets import fetch_california_housing\n",
    "X, y = fetch_california_housing(return_X_y=True)"
   ]
  },
  {
   "cell_type": "code",
   "execution_count": 8,
   "metadata": {},
   "outputs": [
    {
     "name": "stdout",
     "output_type": "stream",
     "text": [
      "(20640, 8) (20640,)\n"
     ]
    }
   ],
   "source": [
    "# Превращаем регрессию в классификацию\n",
    "y = (y > 2.0).astype(int)\n",
    "print(X.shape, y.shape)"
   ]
  },
  {
   "cell_type": "code",
   "execution_count": 9,
   "metadata": {},
   "outputs": [
    {
     "data": {
      "text/plain": [
       "[<matplotlib.lines.Line2D at 0x15bb8faa730>]"
      ]
     },
     "execution_count": 9,
     "metadata": {},
     "output_type": "execute_result"
    },
    {
     "data": {
      "image/png": "[encoded data removed]",
      "text/plain": [
       "<Figure size 432x288 with 1 Axes>"
      ]
     },
     "metadata": {
      "needs_background": "light"
     },
     "output_type": "display_data"
    }
   ],
   "source": [
    "acc = []\n",
    "for n in range(1, 10):\n",
    "    X_train, X_test, y_train, y_test = train_test_split(X, y, test_size=0.1, stratify=y)\n",
    "    my_clf = MyGradientBoostingClassifier(n_estimators=n)\n",
    "    my_clf.fit(X_train, y_train)\n",
    "    acc.append(accuracy_score(y_pred=my_clf.predict(X_test), y_true=y_test))\n",
    "plt.plot(list(range(1, 10)), acc)"
   ]
  },
  {
   "cell_type": "code",
   "execution_count": 10,
   "metadata": {},
   "outputs": [
    {
     "name": "stderr",
     "output_type": "stream",
     "text": [
      "100%|████████████████████████████████████████████████████████████████████████████████████| 6/6 [03:22<00:00, 33.71s/it]"
     ]
    },
    {
     "name": "stdout",
     "output_type": "stream",
     "text": [
      "best_accuracy = 0.8842054263565892 with loss ' exp ', colsample = 0.7066666666666667 , subsample = 0.67 , n_estimators = 5 and learning rate = 0.326\n"
     ]
    },
    {
     "name": "stderr",
     "output_type": "stream",
     "text": [
      "\n"
     ]
    }
   ],
   "source": [
    "best_acc = 0\n",
    "best_loss = \"\"\n",
    "best_lr = 0\n",
    "best_c = 0\n",
    "best_s = 0\n",
    "best_n = 0\n",
    "for alpha in tqdm(np.linspace(0.01, 0.8, 6)):\n",
    "    for n in range(2, 6):\n",
    "        for c in np.linspace(0.12, 1, 4):\n",
    "            for s in np.linspace(0.01, 1, 4):\n",
    "                for l in ['mse', 'exp', 'log']:\n",
    "                    X_train, X_test, y_train, y_test = train_test_split(X, y, test_size=0.1, stratify=y)\n",
    "                    my_clf = MyGradientBoostingClassifier(loss = l, learning_rate=alpha, \n",
    "                                                          n_estimators=n, colsample=c, subsample=s)\n",
    "                    my_clf.fit(X_train, y_train)\n",
    "                    acc = accuracy_score(y_pred=my_clf.predict(X_test), y_true=y_test)\n",
    "                    if acc > best_acc:\n",
    "                        best_acc = acc\n",
    "                        best_loss = l\n",
    "                        best_lr = alpha\n",
    "                        best_c = c\n",
    "                        best_s = s\n",
    "                        best_n = n\n",
    "print(\"best_accuracy =\", best_acc, \"with loss '\", best_loss, \"', colsample =\", \n",
    "      best_c, \", subsample =\", best_s, \", n_estimators =\", best_n, \"and learning rate =\", best_lr)"
   ]
  },
  {
   "cell_type": "markdown",
   "metadata": {},
   "source": [
    "## BooBag BagBoo (1 балл)\n",
    "\n"
   ]
  },
  {
   "cell_type": "markdown",
   "metadata": {},
   "source": [
    "Попробуем объединить бустинг и бэгинг. Давайте\n",
    "\n",
    "1) в качестве базовой модели брать не дерево решений, а случайный лес (из sklearn)\n",
    "\n",
    "2) обучать N бустингов на бустрапированной выборке, а затем предикт усреднять"
   ]
  },
  {
   "cell_type": "markdown",
   "metadata": {},
   "source": [
    "Попробуйте обе этих стратегии на данных из прошлого задания. Получилось ли улучшить качество? Почему?"
   ]
  },
  {
   "cell_type": "code",
   "execution_count": 11,
   "metadata": {},
   "outputs": [
    {
     "name": "stdout",
     "output_type": "stream",
     "text": [
      "бустинг просто на деревьях: 0.872093023255814\n",
      "бустинг на лесах из N деревьев с теми же параметрами бустинга: 0.876937984496124\n"
     ]
    }
   ],
   "source": [
    "N = 20 # колво бустингов / колво деревьев в каждом лесе\n",
    " \n",
    "X_train, X_test, y_train, y_test = train_test_split(X, y, test_size=0.1, stratify=y)\n",
    "my_clf = MyGradientBoostingClassifier(loss = best_loss, learning_rate=best_lr, \n",
    "                                        n_estimators=best_n, colsample=best_c, subsample=best_s)\n",
    "my_clf.fit(X_train, y_train, DecisionTreeRegressor)\n",
    "print(\"бустинг просто на деревьях:\", accuracy_score(y_pred=my_clf.predict(X_test), y_true=y_test))\n",
    "\n",
    "\n",
    "\n",
    "X_train, X_test, y_train, y_test= train_test_split(X, y, test_size=0.1, stratify=y)\n",
    "my_clf = MyGradientBoostingClassifier(loss = best_loss, learning_rate=best_lr, \n",
    "                                        n_estimators=n, colsample=c, subsample=s)\n",
    "my_clf.fit(X_train, y_train, RandomForestRegressor, n_estimators=N)\n",
    "print(\"бустинг на лесах из N деревьев с теми же параметрами бустинга:\", accuracy_score(y_pred=my_clf.predict(X_test), y_true=y_test))"
   ]
  },
  {
   "cell_type": "code",
   "execution_count": 12,
   "metadata": {},
   "outputs": [
    {
     "name": "stdout",
     "output_type": "stream",
     "text": [
      "усреднение по N бустингам с теми же параметрами: 0.9118217054263565\n"
     ]
    }
   ],
   "source": [
    "X_train, X_test, y_train, y_test = train_test_split(X, y, test_size=0.1, stratify=y)\n",
    "ans = np.zeros(len(y_test))\n",
    "for i in range(N):\n",
    "    indices = np.random.randint(0, len(y_train), (1, len(y_train)))[0]\n",
    "    X_b = X_train[indices, :]\n",
    "    y_b = y_train[indices]\n",
    "    my_clf = MyGradientBoostingClassifier(loss = best_loss, learning_rate=best_lr, \n",
    "                                        n_estimators=best_n, colsample=best_c, subsample=best_s)\n",
    "    my_clf.fit(X_b, y_b, DecisionTreeRegressor)\n",
    "    ans += my_clf.predict(X_test)\n",
    "ans = ans / N\n",
    "ans = np.round(ans)\n",
    "print(\"усреднение по N бустингам с теми же параметрами:\", accuracy_score(y_pred=ans, y_true=y_test))"
   ]
  },
  {
   "cell_type": "code",
   "execution_count": 13,
   "metadata": {},
   "outputs": [],
   "source": [
    "# Качество улучшилось в обоих способах. Видимо, variance был довольно велик \n",
    "# в бустинге из-за переобучения, и усреднение на каждом шаге \n",
    "# по N деревьям / усреднение N бустингов этот variance уменьшило"
   ]
  },
  {
   "cell_type": "markdown",
   "metadata": {
    "collapsed": true
   },
   "source": [
    "## Умная инициализация (1 балл)\n",
    "\n",
    "Попробуйте брать в качестве инициализации бустинга не константу, а какой-то алгоритм и уже от его предикта стартовать итерации бустинга. Попробуйте разные модели из sklearn: линейные модели, рандом форест, svm..\n",
    "\n",
    "Получилось ли улучшить качество? Почему?\n",
    "\n"
   ]
  },
  {
   "cell_type": "code",
   "execution_count": 14,
   "metadata": {},
   "outputs": [
    {
     "name": "stdout",
     "output_type": "stream",
     "text": [
      "init is Forest: 0.8919573643410853\n",
      "init is SVC: 0.8771802325581395\n"
     ]
    },
    {
     "name": "stderr",
     "output_type": "stream",
     "text": [
      "C:\\Users\\Sasha\\AppData\\Local\\Programs\\Python\\Python38\\lib\\site-packages\\sklearn\\linear_model\\_logistic.py:762: ConvergenceWarning: lbfgs failed to converge (status=1):\n",
      "STOP: TOTAL NO. of ITERATIONS REACHED LIMIT.\n",
      "\n",
      "Increase the number of iterations (max_iter) or scale the data as shown in:\n",
      "    https://scikit-learn.org/stable/modules/preprocessing.html\n",
      "Please also refer to the documentation for alternative solver options:\n",
      "    https://scikit-learn.org/stable/modules/linear_model.html#logistic-regression\n",
      "  n_iter_i = _check_optimize_result(\n"
     ]
    },
    {
     "name": "stdout",
     "output_type": "stream",
     "text": [
      "init is LogisticRegression: 0.8364825581395349\n"
     ]
    }
   ],
   "source": [
    "X_train, X_test, y_train, y_test = train_test_split(X, y, test_size=0.2, stratify=y)\n",
    "my_clf = MyGradientBoostingClassifier(loss = best_loss, learning_rate=best_lr, \n",
    "                                    n_estimators=best_n, colsample=best_c, subsample=best_s)\n",
    "my_clf.fit(X_train, y_train, DecisionTreeRegressor, RandomForestClassifier)\n",
    "print(\"init is Forest:\", accuracy_score(y_pred=my_clf.predict(X_test), y_true=y_test))\n",
    "\n",
    "\n",
    "X_train, X_test, y_train, y_test = train_test_split(X, y, test_size=0.2, stratify=y)\n",
    "my_clf = MyGradientBoostingClassifier(loss = best_loss, learning_rate=best_lr, \n",
    "                                    n_estimators=best_n, colsample=best_c, subsample=best_s)\n",
    "my_clf.fit(X_train, y_train, DecisionTreeRegressor, SVC)\n",
    "print(\"init is SVC:\", accuracy_score(y_pred=my_clf.predict(X_test), y_true=y_test))\n",
    "\n",
    "\n",
    "X_train, X_test, y_train, y_test = train_test_split(X, y, test_size=0.2, stratify=y)\n",
    "my_clf = MyGradientBoostingClassifier(loss = best_loss, learning_rate=best_lr, \n",
    "                                    n_estimators=best_n, colsample=best_c, subsample=best_s)\n",
    "my_clf.fit(X_train, y_train, DecisionTreeRegressor, LogisticRegression)\n",
    "print(\"init is LogisticRegression:\", accuracy_score(y_pred=my_clf.predict(X_test), y_true=y_test))"
   ]
  },
  {
   "cell_type": "code",
   "execution_count": 15,
   "metadata": {},
   "outputs": [],
   "source": [
    "# RandomForest с большим количеством деревьев в качестве init_model даёт прирост в точности,\n",
    "# так как лес сам по себе хорошо разделяет классы, а потом деревья доисправляют ошибки.\n",
    "\n",
    "# SVC и LogisticRegression дают незначительное изменение в точности. Я думаю, это связано с тем,\n",
    "# что данные не очень хорошо линейно разделимы, и при инициализации получается достаточная ошибка, \n",
    "# которую деревья не успевают полностью исправить за колво итераций n_estimators и шагом learning_rate, \n",
    "# которые подбирались для константной инициализации"
   ]
  },
  {
   "cell_type": "markdown",
   "metadata": {},
   "source": [
    "## Фидбек (бесценно)"
   ]
  },
  {
   "cell_type": "markdown",
   "metadata": {},
   "source": [
    "* Какие аспекты обучения  ансамблей Вам показались непонятными? Какое место стоит дополнительно объяснить?"
   ]
  },
  {
   "cell_type": "markdown",
   "metadata": {},
   "source": [
    "### Ваш ответ здесь"
   ]
  },
  {
   "cell_type": "markdown",
   "metadata": {},
   "source": [
    "* Здесь Вы можете оставить отзыв о этой домашней работе или о всем курсе."
   ]
  },
  {
   "cell_type": "markdown",
   "metadata": {},
   "source": [
    "### ВАШ ОТЗЫВ ЗДЕСЬ\n",
    "\n"
   ]
  },
  {
   "cell_type": "code",
   "execution_count": null,
   "metadata": {},
   "outputs": [],
   "source": []
  }
 ],
 "metadata": {
  "anaconda-cloud": {},
  "kernelspec": {
   "display_name": "Python 3",
   "language": "python",
   "name": "python3"
  },
  "language_info": {
   "codemirror_mode": {
    "name": "ipython",
    "version": 3
   },
   "file_extension": ".py",
   "mimetype": "text/x-python",
   "name": "python",
   "nbconvert_exporter": "python",
   "pygments_lexer": "ipython3",
   "version": "3.8.6"
  }
 },
 "nbformat": 4,
 "nbformat_minor": 2
}
